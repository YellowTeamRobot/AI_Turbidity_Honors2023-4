{
 "cells": [
  {
   "cell_type": "markdown",
   "id": "6160208a-6272-4b82-82bd-c05bc335640d",
   "metadata": {
    "jp-MarkdownHeadingCollapsed": true,
    "tags": []
   },
   "source": [
    "# Import necessary libraries"
   ]
  },
  {
   "cell_type": "code",
   "execution_count": 1,
   "id": "cc610755-9aa2-49f4-8801-c739e54883af",
   "metadata": {
    "tags": []
   },
   "outputs": [
    {
     "data": {
      "text/plain": [
       "True"
      ]
     },
     "execution_count": 1,
     "metadata": {},
     "output_type": "execute_result"
    }
   ],
   "source": [
    "import torch\n",
    "torch.cuda.is_available()"
   ]
  },
  {
   "cell_type": "code",
   "execution_count": 2,
   "id": "4dbca9ce-75e7-470a-ac3f-8440331fb863",
   "metadata": {
    "tags": []
   },
   "outputs": [
    {
     "name": "stdout",
     "output_type": "stream",
     "text": [
      "Ultralytics YOLOv8.1.8 🚀 Python-3.11.4 torch-2.0.1 CUDA:0 (NVIDIA GeForce RTX 4080, 16376MiB)\n",
      "Setup complete ✅ (24 CPUs, 30.9 GB RAM, 191.0/1006.9 GB disk)\n"
     ]
    }
   ],
   "source": [
    "from IPython import display\n",
    "display.clear_output()\n",
    "\n",
    "import ultralytics\n",
    "ultralytics.checks()"
   ]
  },
  {
   "cell_type": "code",
   "execution_count": 3,
   "id": "d08af8fd-41af-42ec-bdfc-a4fa113ef846",
   "metadata": {
    "tags": []
   },
   "outputs": [],
   "source": [
    "from ultralytics import YOLO\n",
    "\n",
    "from IPython.display import display, Image"
   ]
  },
  {
   "cell_type": "code",
   "execution_count": 4,
   "id": "f76d0446-59bf-4593-8848-d3373fc0c9a2",
   "metadata": {
    "tags": []
   },
   "outputs": [
    {
     "data": {
      "text/plain": [
       "'1.25.0'"
      ]
     },
     "execution_count": 4,
     "metadata": {},
     "output_type": "execute_result"
    }
   ],
   "source": [
    "import numpy\n",
    "numpy.version.version"
   ]
  },
  {
   "cell_type": "markdown",
   "id": "d2d56e3e-3d71-4f4d-8089-89bc6727b55d",
   "metadata": {
    "jp-MarkdownHeadingCollapsed": true,
    "tags": []
   },
   "source": [
    "-----\n",
    "# Train Model"
   ]
  },
  {
   "cell_type": "markdown",
   "id": "29844146-6840-4ca0-bb94-0bd696043926",
   "metadata": {
    "tags": []
   },
   "source": [
    "### Train Single Model"
   ]
  },
  {
   "cell_type": "code",
   "execution_count": null,
   "id": "74978492-03a6-4665-8458-d9d9b56ce5eb",
   "metadata": {
    "tags": []
   },
   "outputs": [],
   "source": [
    "# Change data location to location of the processed images, change project location to desired output folder\n",
    "model = YOLO('yolov8l-cls.pt')\n",
    "results = model.train(data=\"./Datasets/Combined/_Processed11\", epochs=15, imgsz=320, batch=16, patience=0, project=\"./Training/2024-3-22\")\n"
   ]
  },
  {
   "cell_type": "markdown",
   "id": "2fb7568e-6b63-44e5-87b4-4fec345dcc89",
   "metadata": {},
   "source": [
    "### Tuning (Train multiple models using different hyperparameters, and choose best one)"
   ]
  },
  {
   "cell_type": "code",
   "execution_count": null,
   "id": "389b5097-87c5-431b-b1a2-60cd0052a623",
   "metadata": {
    "tags": []
   },
   "outputs": [],
   "source": [
    "# Change data location to location of the processed images, change project location to desired output folder\n",
    "model = YOLO('yolov8l-cls.pt')\n",
    "model.tune(data=\"./Datasets/Combined/_Processed11\", epochs=15, iterations=50, imgsz=320, batch=16, use_ray=False, plots=False, save=False, val=False, project=\"./Training/2024-3-27/2/\")\n"
   ]
  },
  {
   "cell_type": "markdown",
   "id": "bc05648f-7c84-4a4b-bc06-15f77c8c122c",
   "metadata": {
    "jp-MarkdownHeadingCollapsed": true,
    "tags": []
   },
   "source": [
    "-----\n",
    "# Export model to ONNX format\n",
    "##### (For use in the webappp)"
   ]
  },
  {
   "cell_type": "code",
   "execution_count": 59,
   "id": "17230ff4-1f9b-4841-9964-2dd95733ce99",
   "metadata": {},
   "outputs": [
    {
     "name": "stdout",
     "output_type": "stream",
     "text": [
      "Ultralytics YOLOv8.1.8 🚀 Python-3.11.4 torch-2.0.1 CPU (AMD Ryzen 9 7900X 12-Core Processor)\n",
      "YOLOv8l-cls summary (fused): 133 layers, 36198667 parameters, 0 gradients\n",
      "\n",
      "\u001b[34m\u001b[1mPyTorch:\u001b[0m starting from 'Training/2024-3-19/TUNING/tune/weights/best.pt' with input shape (1, 3, 320, 320) BCHW and output shape(s) (1, 11) (69.2 MB)\n",
      "\n",
      "\u001b[34m\u001b[1mONNX:\u001b[0m starting export with onnx 1.15.0 opset 17...\n",
      "================ Diagnostic Run torch.onnx.export version 2.0.1 ================\n",
      "verbose: False, log level: Level.ERROR\n",
      "======================= 0 NONE 0 NOTE 0 WARNING 0 ERROR ========================\n",
      "\n",
      "\u001b[34m\u001b[1mONNX:\u001b[0m export success ✅ 0.8s, saved as 'Training/2024-3-19/TUNING/tune/weights/best.onnx' (138.1 MB)\n",
      "\n",
      "Export complete (2.4s)\n",
      "Results saved to \u001b[1m/home/twilight/Honors Research Project/AI_Turbidity_Honors2023-4/Training/2024-3-19/TUNING/tune/weights\u001b[0m\n",
      "Predict:         yolo predict task=classify model=Training/2024-3-19/TUNING/tune/weights/best.onnx imgsz=320  \n",
      "Validate:        yolo val task=classify model=Training/2024-3-19/TUNING/tune/weights/best.onnx imgsz=320 data=/home/twilight/Honors Research Project/AI_Turbidity_Honors2023-4/Datasets/Combined/_Processed11  \n",
      "Visualize:       https://netron.app\n",
      "💡 Learn more at https://docs.ultralytics.com/modes/export\n"
     ]
    }
   ],
   "source": [
    "!yolo export model=\"./Training/2024-3-19/TUNING/tune/weights/best.pt\" format=onnx  # export custom trained model"
   ]
  }
 ],
 "metadata": {
  "kernelspec": {
   "display_name": "Python 3 (ipykernel)",
   "language": "python",
   "name": "python3"
  },
  "language_info": {
   "codemirror_mode": {
    "name": "ipython",
    "version": 3
   },
   "file_extension": ".py",
   "mimetype": "text/x-python",
   "name": "python",
   "nbconvert_exporter": "python",
   "pygments_lexer": "ipython3",
   "version": "3.11.4"
  }
 },
 "nbformat": 4,
 "nbformat_minor": 5
}
