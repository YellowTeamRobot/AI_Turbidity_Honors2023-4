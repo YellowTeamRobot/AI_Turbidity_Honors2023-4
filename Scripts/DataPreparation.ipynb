{
 "cells": [
  {
   "cell_type": "markdown",
   "id": "8299e239-4b7b-4ffd-bab1-c656c44a0fdb",
   "metadata": {
    "jp-MarkdownHeadingCollapsed": true,
    "tags": []
   },
   "source": [
    "# Create CSV spreadsheet from a folder of images\n",
    "##### Note: This is only necessary if not using a provided Master Dataset with corresponding Master Spreadsheet\n",
    "##### Note: Need to manually enter information such as FNU"
   ]
  },
  {
   "cell_type": "code",
   "execution_count": 3,
   "id": "492d3728-0061-46f9-af2f-2006a5ae2555",
   "metadata": {
    "tags": []
   },
   "outputs": [
    {
     "name": "stdout",
     "output_type": "stream",
     "text": [
      "CSV file created successfully: output.csv\n"
     ]
    }
   ],
   "source": [
    "import os\n",
    "from PIL import Image\n",
    "import csv\n",
    "\n",
    "# Function to extract metadata from an image\n",
    "def extract_image_metadata(image_path):\n",
    "    try:\n",
    "        with Image.open(image_path) as img:\n",
    "            metadata = {\n",
    "                \"ISO\": img._getexif().get(34855),  # ISO\n",
    "                \"ShutterSpeed\": img._getexif().get(33434),  # Shutter Speed\n",
    "                \"FocalLength\": img._getexif().get(37386),  # Focal Length\n",
    "                \"FStop\": img._getexif().get(33437),  # F-Stop\n",
    "                \"WhiteBalance\": img._getexif().get(41987)  # White Balance\n",
    "            }\n",
    "            return metadata\n",
    "    except (AttributeError, FileNotFoundError, IsADirectoryError, PermissionError):\n",
    "        return None\n",
    "\n",
    "# Folder containing the images\n",
    "image_folder = \"/home/twilight/Honors Research Project/AI_Turbidity_Honors2023-4/Datasets/IndividualCollections/2024-2-26\"\n",
    "\n",
    "# Output CSV file\n",
    "csv_file = \"output.csv\"\n",
    "\n",
    "# Get a list of image files in the folder\n",
    "image_files = [file for file in os.listdir(image_folder) if file.lower().endswith(('jpg', 'jpeg', 'png', 'gif', 'bmp'))]\n",
    "\n",
    "# Prepare the CSV header and rows\n",
    "header = [\"Image Name\", \"Site\", \"Substrate\", \"Auto\", \"ISO\", \"ShutterSpeed\", \"FocalLength\", \"FStop\", \"WhiteBalance\", \"FNU\", \"DOC\", \"Flow\", \"Secchi\", \"TSS\"]\n",
    "rows = []\n",
    "\n",
    "# Iterate through image files and extract metadata\n",
    "for image_name in image_files:\n",
    "    image_path = os.path.join(image_folder, image_name)\n",
    "    metadata = extract_image_metadata(image_path)\n",
    "\n",
    "    # Append a row for each image\n",
    "    rows.append([image_name, \"\", \"\", \"\", metadata[\"ISO\"] if metadata else \"\", metadata[\"ShutterSpeed\"] if metadata else \"\",\n",
    "                 metadata[\"FocalLength\"] if metadata else \"\", metadata[\"FStop\"] if metadata else \"\",\n",
    "                 metadata[\"WhiteBalance\"] if metadata else \"\", \"\", \"\", \"\", \"\", \"\"])\n",
    "\n",
    "# Write to CSV\n",
    "with open(csv_file, mode='w', newline='') as file:\n",
    "    writer = csv.writer(file)\n",
    "    writer.writerow(header)\n",
    "    writer.writerows(rows)\n",
    "\n",
    "print(\"CSV file created successfully:\", csv_file)\n"
   ]
  },
  {
   "cell_type": "markdown",
   "id": "9f6e1ff7-edad-47f4-a932-c16b2902dea0",
   "metadata": {
    "jp-MarkdownHeadingCollapsed": true,
    "tags": []
   },
   "source": [
    "-----\n",
    "# Code for splitting all pictures in a master dataset folder into range folders"
   ]
  },
  {
   "cell_type": "code",
   "execution_count": 1,
   "id": "d8af5afb-1687-41a7-aa32-a379713dd80b",
   "metadata": {
    "tags": []
   },
   "outputs": [],
   "source": [
    "# 11 categories weighted\n",
    "folder_ranges = [(0, 0.49), (0.5, 0.99), (1, 2.49), (2.5, 4.99), (5, 9.99), (10,14.99), (15,20.99), (21,28.99), (29,36.99), (37,44.99), (45,55)]\n"
   ]
  },
  {
   "cell_type": "code",
   "execution_count": 2,
   "id": "1b0f43c8-f193-4c04-98eb-be8ed00a4d4e",
   "metadata": {
    "tags": []
   },
   "outputs": [],
   "source": [
    "# Input CSV file\n",
    "csv_file =\"./Datasets/Combined/_Master-Combined.csv\""
   ]
  },
  {
   "cell_type": "code",
   "execution_count": 3,
   "id": "5839c297-1665-4c36-a99f-d9f71f86570d",
   "metadata": {
    "tags": []
   },
   "outputs": [],
   "source": [
    "# Specify the parent directory where you want to create the folders\n",
    "parent_directory = \"./Datasets/Combined/temp/\""
   ]
  },
  {
   "cell_type": "code",
   "execution_count": 4,
   "id": "4d4161a2-33cf-4426-b084-e11d4a131264",
   "metadata": {
    "tags": []
   },
   "outputs": [],
   "source": [
    "# Specify path to input folder of images\n",
    "image_folder = \"./Datasets/Combined/_Master/\""
   ]
  },
  {
   "cell_type": "code",
   "execution_count": 5,
   "id": "520be896-9c68-4d5e-8bec-4c979dc4efec",
   "metadata": {
    "tags": []
   },
   "outputs": [
    {
     "name": "stdout",
     "output_type": "stream",
     "text": [
      "Images copied to the corresponding folders in: ./Datasets/Combined/temp/\n"
     ]
    }
   ],
   "source": [
    "import os\n",
    "import shutil\n",
    "import csv\n",
    "\n",
    "\n",
    "for start, end in folder_ranges:\n",
    "    folder_name = f\"{start}-{end}\"\n",
    "    os.makedirs(os.path.join(parent_directory, folder_name), exist_ok=True)\n",
    "\n",
    "# Read the CSV file and copy images to the corresponding folders\n",
    "with open(csv_file, 'r') as file:\n",
    "    reader = csv.reader(file)\n",
    "    header = next(reader)  # Skip header\n",
    "\n",
    "    for row in reader:\n",
    "        image_name = row[0]\n",
    "        fnu_value = float(row[9])  # FNU column\n",
    "\n",
    "        # Determine the folder based on the FNU value\n",
    "        for start, end in folder_ranges:\n",
    "            if start <= fnu_value <= end:\n",
    "                destination_folder = f\"{start}-{end}\"\n",
    "                break\n",
    "\n",
    "        # Copy the image to the corresponding folder\n",
    "        source_path = os.path.join(image_folder, image_name)  # Update with your image folder path\n",
    "        destination_path = os.path.join(parent_directory, destination_folder, image_name)\n",
    "\n",
    "        shutil.copyfile(source_path, destination_path)\n",
    "\n",
    "print(\"Images copied to the corresponding folders in:\", parent_directory)\n"
   ]
  },
  {
   "cell_type": "markdown",
   "id": "898313d5-b696-4ff7-8348-05b2b04fadc4",
   "metadata": {
    "jp-MarkdownHeadingCollapsed": true,
    "tags": []
   },
   "source": [
    "# Code for taking the created range folders and splitting into train, test, validate folders\n",
    "##### Likes to not put as many in Val folder with small dataset, make sure there is at least one picture in each category"
   ]
  },
  {
   "cell_type": "code",
   "execution_count": 7,
   "id": "3b13cfb1-8511-4fc5-a1b1-f75b4cf32785",
   "metadata": {
    "tags": []
   },
   "outputs": [],
   "source": [
    "import os\n",
    "import shutil\n",
    "import random\n",
    "import math\n",
    "\n",
    "# Source and destination directories\n",
    "source_root = './Datasets/Combined/temp/'\n",
    "destination_root = './Datasets/Combined/_Processed11/'\n",
    "\n",
    "# Percentage split for training, validation, and testing\n",
    "train_percentage = 0.75  # 75% for training\n",
    "test_percentage = 0.15   # 15% for testing\n",
    "val_percentage = 0.1    # 10% for validation\n",
    "\n",
    "\n",
    "# Create destination directories\n",
    "os.makedirs(os.path.join(destination_root, 'train'), exist_ok=True)\n",
    "os.makedirs(os.path.join(destination_root, 'val'), exist_ok=True)\n",
    "os.makedirs(os.path.join(destination_root, 'test'), exist_ok=True)\n",
    "\n",
    "# Iterate through each class directory in the source root\n",
    "for class_name in os.listdir(source_root):\n",
    "    class_source_dir = os.path.join(source_root, class_name)\n",
    "\n",
    "    # Create destination directories for the current class\n",
    "    os.makedirs(os.path.join(destination_root, 'train', class_name), exist_ok=True)\n",
    "    os.makedirs(os.path.join(destination_root, 'val', class_name), exist_ok=True)\n",
    "    os.makedirs(os.path.join(destination_root, 'test', class_name), exist_ok=True)\n",
    "\n",
    "    # Get a list of all files in the current class directory\n",
    "    files = os.listdir(class_source_dir)\n",
    "    num_files = len(files)\n",
    "\n",
    "    # Calculate the number of files for training, validation, and testing\n",
    "    num_train = math.ceil(train_percentage * num_files)\n",
    "    num_val = math.ceil(val_percentage * num_files)\n",
    "    num_test = num_files - (num_train + num_val)\n",
    "\n",
    "    # Shuffle the files randomly\n",
    "    random.shuffle(files)\n",
    "\n",
    "    # Move files for training\n",
    "    for i in range(min(num_train, len(files))):\n",
    "        source_file = os.path.join(class_source_dir, files[i])\n",
    "        destination_file = os.path.join(destination_root, 'train', class_name, files[i])\n",
    "        shutil.copy(source_file, destination_file)\n",
    "\n",
    "    # Move files for validation\n",
    "    for i in range(num_train, num_train + min(num_val, len(files) - num_train)):\n",
    "        source_file = os.path.join(class_source_dir, files[i])\n",
    "        destination_file = os.path.join(destination_root, 'val', class_name, files[i])\n",
    "        shutil.copy(source_file, destination_file)\n",
    "\n",
    "    # Move files for testing\n",
    "    for i in range(num_train + num_val, num_train + num_val + min(num_test, len(files) - num_train - num_val)):\n",
    "        source_file = os.path.join(class_source_dir, files[i])\n",
    "        destination_file = os.path.join(destination_root, 'test', class_name, files[i])\n",
    "        shutil.copy(source_file, destination_file)\n"
   ]
  }
 ],
 "metadata": {
  "kernelspec": {
   "display_name": "Python 3 (ipykernel)",
   "language": "python",
   "name": "python3"
  },
  "language_info": {
   "codemirror_mode": {
    "name": "ipython",
    "version": 3
   },
   "file_extension": ".py",
   "mimetype": "text/x-python",
   "name": "python",
   "nbconvert_exporter": "python",
   "pygments_lexer": "ipython3",
   "version": "3.11.4"
  }
 },
 "nbformat": 4,
 "nbformat_minor": 5
}
